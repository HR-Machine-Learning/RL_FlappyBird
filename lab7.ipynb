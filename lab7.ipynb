{
 "cells": [
  {
   "cell_type": "markdown",
   "metadata": {},
   "source": [
    "Use pickel to save the state of the model (it's a default Python thing)"
   ]
  },
  {
   "cell_type": "markdown",
   "metadata": {},
   "source": [
    "### The environment:\n",
    "- _Is it discrete, finite or continuous?_\n",
    "\n",
    "The environment is discrete finite as we have a finite number of actions (flap (1) or not flap (0)). As the pipes are integers (height and distance between them), the scale is not continous. \n",
    "\n",
    "- _Is it stochastic or deterministic?_\n",
    "\n",
    "It is stochastic, since a Stochastic Model has the capacity to handle uncertainties in the inputs applied. Stochastic models possess some inherent randomness - the same set of parameter values and initial conditions will lead to an ensemble of different outputs. If something is deterministic however, you have all of the data necessary to predict (determine) the outcome with certainty, which is not true in this case. \n",
    "\n",
    "- _Is it episodic or sequential?_\n",
    "\n",
    "it is an episodic environment, since there is a series of one-shot actions, and only the current percept is required for the action.\n",
    "\n",
    "- _What constitute a state in the environment?_\n",
    "\n",
    "State = {\n",
    "    Vertical distance between bird and pipes,\n",
    "    Horizontal distance between bird and pipes,\n",
    "    Velocity of the bird (?),\n",
    "    Bird alive or dead\n",
    "}\n",
    "\n",
    "- _Is it markov process?_\n",
    "\n",
    "Yes\n",
    "\n",
    "- _What knowledge do you have about the dynamics of the environment (state probabilities)_\n",
    "\n",
    "- _What actions are there_\n",
    "\n",
    "Jump\n",
    "Do nothing\n"
   ]
  },
  {
   "cell_type": "markdown",
   "metadata": {},
   "source": [
    "### The algorithms to use\n",
    "Which algorithms can be used and work well\n",
    "- Can you use tabular approach"
   ]
  },
  {
   "cell_type": "markdown",
   "metadata": {},
   "source": [
    "#### The parameters of the algorithm"
   ]
  },
  {
   "cell_type": "code",
   "execution_count": 4,
   "metadata": {},
   "outputs": [
    {
     "name": "stdout",
     "output_type": "stream",
     "text": [
      "hello\n"
     ]
    }
   ],
   "source": [
    "print(\"hello\")"
   ]
  },
  {
   "cell_type": "code",
   "execution_count": null,
   "metadata": {},
   "outputs": [],
   "source": []
  }
 ],
 "metadata": {
  "kernelspec": {
   "display_name": "Python 3.10.7 ('MLvenv': venv)",
   "language": "python",
   "name": "python3"
  },
  "language_info": {
   "codemirror_mode": {
    "name": "ipython",
    "version": 3
   },
   "file_extension": ".py",
   "mimetype": "text/x-python",
   "name": "python",
   "nbconvert_exporter": "python",
   "pygments_lexer": "ipython3",
   "version": "3.10.7"
  },
  "orig_nbformat": 4,
  "vscode": {
   "interpreter": {
    "hash": "7022e7cf93c1309d644ae8c730b48934b18d12f7e9bf862ed67ea6048bd92a36"
   }
  }
 },
 "nbformat": 4,
 "nbformat_minor": 2
}
