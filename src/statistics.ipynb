{
 "cells": [
  {
   "cell_type": "code",
   "execution_count": 1,
   "metadata": {},
   "outputs": [
    {
     "name": "stdout",
     "output_type": "stream",
     "text": [
      "pygame 2.1.2 (SDL 2.0.18, Python 3.10.8)\n",
      "Hello from the pygame community. https://www.pygame.org/contribute.html\n",
      "couldn't import doomish\n",
      "Couldn't import doom\n"
     ]
    }
   ],
   "source": [
    "from time import time\n",
    "\n",
    "import numpy as np\n",
    "import matplotlib.pyplot as plt\n",
    "import seaborn as sns\n",
    "import pandas as pd\n",
    "\n",
    "from FlappyAgents.abst_flappy_agent import FlappyAgent\n",
    "from FlappyAgents.qlearning_flappy_agent import QlearningAgent\n",
    "import playyy"
   ]
  },
  {
   "cell_type": "code",
   "execution_count": 2,
   "metadata": {},
   "outputs": [],
   "source": [
    "#######################################\n",
    "# RUN THIS TO RESET LEARNING PROGRESS #\n",
    "#######################################\n",
    "\n",
    "agent: FlappyAgent = QlearningAgent()\n",
    "trainedlvl = -1\n",
    "\n",
    "results = []\n",
    "trainingsizes = []\n",
    "qvalues = []\n",
    "times = []\n",
    "frames = []"
   ]
  },
  {
   "cell_type": "code",
   "execution_count": 3,
   "metadata": {},
   "outputs": [
    {
     "name": "stdout",
     "output_type": "stream",
     "text": [
      "0 1.278\n",
      "100 1.179\n",
      "200 1.225\n",
      "300 1.227\n",
      "400 1.303\n",
      "500 1.275\n"
     ]
    }
   ],
   "source": [
    "\n",
    "playsize = 100\n",
    "i = 0\n",
    "stepsize = 100\n",
    "for i in range(0, 500 + 1, stepsize):\n",
    "\tif trainedlvl < i:\n",
    "\t\t# SETUP\n",
    "\t\t#agent: FlappyAgent = DeepQAgent()\n",
    "\n",
    "\t\tstart = int(time() * 1000)\n",
    "\t\t_frames = playyy.train(stepsize, agent)\n",
    "\t\tduration = int(time() * 1000) - start\n",
    "\t\tprint(i, duration / 1000)\n",
    "\t\t# write(agent, filestr)\n",
    "\n",
    "\t\t#vals = read(\"results/qvalues_4000\")\n",
    "\t\t#print(filestr)\n",
    "\t\t#vals = read(filestr)\n",
    "\t\t#agent.q_values = vals\n",
    "\n",
    "\t\t#print(len(agent.q_values))\n",
    "\t\trundata = playyy.run_game(playsize, agent)\n",
    "\t\t\n",
    "\t\tresults.append(rundata)\n",
    "\n",
    "\t\t\n",
    "\t\t# for result in results:\n",
    "\t\t# \tsum = 0\n",
    "\t\t# \tfor v in result:\n",
    "\t\t# \t\tsum = sum + v\n",
    "\t\t# \tresult_sums.append(sum)\n",
    "\n",
    "\t\t# \tmini.append(np.min(result))\n",
    "\t\t# \tresult_q1.append(np.quantile(result, 0.25))\n",
    "\t\t# \tresult_q2.append(np.quantile(result, 0.5))\n",
    "\t\t# \tresult_q3.append(np.quantile(result, 0.75))\n",
    "\t\t# \tmaxi.append(np.max(result))\n",
    "\t\tframes.append(_frames)\n",
    "\t\ttrainingsizes.append(i)\t\n",
    "\t\tqvalues.append(len(agent.q_values))\n",
    "\t\ttimes.append(duration)\n",
    "\t\ttrainedlvl = i"
   ]
  },
  {
   "cell_type": "code",
   "execution_count": 4,
   "metadata": {},
   "outputs": [
    {
     "name": "stdout",
     "output_type": "stream",
     "text": [
      "6\n",
      "6\n"
     ]
    },
    {
     "data": {
      "text/html": [
       "<div>\n",
       "<style scoped>\n",
       "    .dataframe tbody tr th:only-of-type {\n",
       "        vertical-align: middle;\n",
       "    }\n",
       "\n",
       "    .dataframe tbody tr th {\n",
       "        vertical-align: top;\n",
       "    }\n",
       "\n",
       "    .dataframe thead th {\n",
       "        text-align: right;\n",
       "    }\n",
       "</style>\n",
       "<table border=\"1\" class=\"dataframe\">\n",
       "  <thead>\n",
       "    <tr style=\"text-align: right;\">\n",
       "      <th></th>\n",
       "      <th>trainingsizes</th>\n",
       "      <th>frames</th>\n",
       "      <th>results</th>\n",
       "      <th>result_sums</th>\n",
       "      <th>mean</th>\n",
       "      <th>qvalues</th>\n",
       "      <th>times</th>\n",
       "      <th>mini</th>\n",
       "      <th>result_q1</th>\n",
       "      <th>result_q2</th>\n",
       "      <th>result_q3</th>\n",
       "      <th>maxi</th>\n",
       "    </tr>\n",
       "  </thead>\n",
       "  <tbody>\n",
       "    <tr>\n",
       "      <th>0</th>\n",
       "      <td>0</td>\n",
       "      <td>[61, 62, 62, 62, 62, 62, 62, 62, 62, 62, 62, 6...</td>\n",
       "      <td>[-5.0, -5.0, -5.0, -5.0, -5.0, -5.0, -5.0, -5....</td>\n",
       "      <td>-500.0</td>\n",
       "      <td>-5.00</td>\n",
       "      <td>510</td>\n",
       "      <td>1278</td>\n",
       "      <td>-5.0</td>\n",
       "      <td>-5.0</td>\n",
       "      <td>-5.0</td>\n",
       "      <td>-5.0</td>\n",
       "      <td>-5.0</td>\n",
       "    </tr>\n",
       "    <tr>\n",
       "      <th>1</th>\n",
       "      <td>100</td>\n",
       "      <td>[62, 62, 62, 62, 62, 62, 62, 62, 62, 62, 62, 6...</td>\n",
       "      <td>[-5.0, -5.0, -5.0, -4.0, -5.0, -5.0, -5.0, -5....</td>\n",
       "      <td>-478.0</td>\n",
       "      <td>-4.78</td>\n",
       "      <td>655</td>\n",
       "      <td>1179</td>\n",
       "      <td>-5.0</td>\n",
       "      <td>-5.0</td>\n",
       "      <td>-5.0</td>\n",
       "      <td>-5.0</td>\n",
       "      <td>-4.0</td>\n",
       "    </tr>\n",
       "    <tr>\n",
       "      <th>2</th>\n",
       "      <td>200</td>\n",
       "      <td>[61, 62, 62, 62, 57, 62, 62, 62, 62, 62, 62, 6...</td>\n",
       "      <td>[-5.0, -5.0, -5.0, -5.0, -5.0, -4.0, -5.0, -4....</td>\n",
       "      <td>-481.0</td>\n",
       "      <td>-4.81</td>\n",
       "      <td>848</td>\n",
       "      <td>1225</td>\n",
       "      <td>-5.0</td>\n",
       "      <td>-5.0</td>\n",
       "      <td>-5.0</td>\n",
       "      <td>-5.0</td>\n",
       "      <td>-4.0</td>\n",
       "    </tr>\n",
       "    <tr>\n",
       "      <th>3</th>\n",
       "      <td>300</td>\n",
       "      <td>[62, 62, 62, 62, 67, 62, 62, 65, 62, 62, 62, 6...</td>\n",
       "      <td>[-4.0, -5.0, -3.0, -3.0, -3.0, -4.0, -4.0, -5....</td>\n",
       "      <td>-438.0</td>\n",
       "      <td>-4.38</td>\n",
       "      <td>1016</td>\n",
       "      <td>1227</td>\n",
       "      <td>-5.0</td>\n",
       "      <td>-5.0</td>\n",
       "      <td>-4.0</td>\n",
       "      <td>-4.0</td>\n",
       "      <td>-2.0</td>\n",
       "    </tr>\n",
       "    <tr>\n",
       "      <th>4</th>\n",
       "      <td>400</td>\n",
       "      <td>[63, 70, 68, 77, 98, 62, 62, 71, 62, 62, 62, 6...</td>\n",
       "      <td>[-4.0, -4.0, -5.0, -5.0, -5.0, -4.0, -4.0, -5....</td>\n",
       "      <td>-460.0</td>\n",
       "      <td>-4.60</td>\n",
       "      <td>1220</td>\n",
       "      <td>1303</td>\n",
       "      <td>-5.0</td>\n",
       "      <td>-5.0</td>\n",
       "      <td>-5.0</td>\n",
       "      <td>-4.0</td>\n",
       "      <td>-3.0</td>\n",
       "    </tr>\n",
       "    <tr>\n",
       "      <th>5</th>\n",
       "      <td>500</td>\n",
       "      <td>[62, 62, 70, 102, 70, 62, 62, 62, 62, 103, 67,...</td>\n",
       "      <td>[-5.0, -5.0, -5.0, -5.0, -4.0, -5.0, -5.0, -5....</td>\n",
       "      <td>-486.0</td>\n",
       "      <td>-4.86</td>\n",
       "      <td>1424</td>\n",
       "      <td>1275</td>\n",
       "      <td>-5.0</td>\n",
       "      <td>-5.0</td>\n",
       "      <td>-5.0</td>\n",
       "      <td>-5.0</td>\n",
       "      <td>-4.0</td>\n",
       "    </tr>\n",
       "  </tbody>\n",
       "</table>\n",
       "</div>"
      ],
      "text/plain": [
       "   trainingsizes                                             frames  \\\n",
       "0              0  [61, 62, 62, 62, 62, 62, 62, 62, 62, 62, 62, 6...   \n",
       "1            100  [62, 62, 62, 62, 62, 62, 62, 62, 62, 62, 62, 6...   \n",
       "2            200  [61, 62, 62, 62, 57, 62, 62, 62, 62, 62, 62, 6...   \n",
       "3            300  [62, 62, 62, 62, 67, 62, 62, 65, 62, 62, 62, 6...   \n",
       "4            400  [63, 70, 68, 77, 98, 62, 62, 71, 62, 62, 62, 6...   \n",
       "5            500  [62, 62, 70, 102, 70, 62, 62, 62, 62, 103, 67,...   \n",
       "\n",
       "                                             results  result_sums  mean  \\\n",
       "0  [-5.0, -5.0, -5.0, -5.0, -5.0, -5.0, -5.0, -5....       -500.0 -5.00   \n",
       "1  [-5.0, -5.0, -5.0, -4.0, -5.0, -5.0, -5.0, -5....       -478.0 -4.78   \n",
       "2  [-5.0, -5.0, -5.0, -5.0, -5.0, -4.0, -5.0, -4....       -481.0 -4.81   \n",
       "3  [-4.0, -5.0, -3.0, -3.0, -3.0, -4.0, -4.0, -5....       -438.0 -4.38   \n",
       "4  [-4.0, -4.0, -5.0, -5.0, -5.0, -4.0, -4.0, -5....       -460.0 -4.60   \n",
       "5  [-5.0, -5.0, -5.0, -5.0, -4.0, -5.0, -5.0, -5....       -486.0 -4.86   \n",
       "\n",
       "   qvalues  times  mini  result_q1  result_q2  result_q3  maxi  \n",
       "0      510   1278  -5.0       -5.0       -5.0       -5.0  -5.0  \n",
       "1      655   1179  -5.0       -5.0       -5.0       -5.0  -4.0  \n",
       "2      848   1225  -5.0       -5.0       -5.0       -5.0  -4.0  \n",
       "3     1016   1227  -5.0       -5.0       -4.0       -4.0  -2.0  \n",
       "4     1220   1303  -5.0       -5.0       -5.0       -4.0  -3.0  \n",
       "5     1424   1275  -5.0       -5.0       -5.0       -5.0  -4.0  "
      ]
     },
     "execution_count": 4,
     "metadata": {},
     "output_type": "execute_result"
    }
   ],
   "source": [
    "result_sums = []\n",
    "mean = []\n",
    "\n",
    "mini = []\n",
    "result_q1 = []\n",
    "result_q2 = []\n",
    "result_q3 = []\n",
    "maxi = []\n",
    "\n",
    "for result in results:\n",
    "\tresult_sums.append(np.sum(result))\n",
    "\tmean.append(np.mean(result))\n",
    "\n",
    "\tmini.append(np.min(result))\n",
    "\tresult_q1.append(np.quantile(result, 0.25))\n",
    "\tresult_q2.append(np.quantile(result, 0.5))\n",
    "\tresult_q3.append(np.quantile(result, 0.75))\n",
    "\tmaxi.append(np.max(result))\n",
    "\n",
    "print(len(result_sums))\n",
    "print(len(trainingsizes))\n",
    "\n",
    "df = pd.DataFrame({'trainingsizes': trainingsizes, \"frames\": frames, \"results\": results, 'result_sums': result_sums, \"mean\": mean, \"qvalues\": qvalues, \"times\": times, \"mini\": mini, \"result_q1\": result_q1, \"result_q2\": result_q2, \"result_q3\": result_q3, \"maxi\": maxi})\n",
    "df\n"
   ]
  },
  {
   "cell_type": "code",
   "execution_count": 5,
   "metadata": {},
   "outputs": [],
   "source": [
    "# df = pd.read_table(\"savepoint.csv\", sep=\",\", index_col=[0]) \n",
    "# df"
   ]
  },
  {
   "cell_type": "code",
   "execution_count": 8,
   "metadata": {},
   "outputs": [
    {
     "data": {
      "text/plain": [
       "[Text(0, 0.5, 'Duration in milliseconds'),\n",
       " Text(0.5, 0, 'Iteration'),\n",
       " Text(0.5, 1.0, 'Training duration of vs. Number of training iterations')]"
      ]
     },
     "execution_count": 8,
     "metadata": {},
     "output_type": "execute_result"
    },
    {
     "data": {
      "image/png": "[encoded data removed]",
      "text/plain": [
       "<Figure size 700x600 with 1 Axes>"
      ]
     },
     "metadata": {},
     "output_type": "display_data"
    },
    {
     "ename": "",
     "evalue": "",
     "output_type": "error",
     "traceback": [
      "\u001b[1;31mThe Kernel crashed while executing code in the the current cell or a previous cell. Please review the code in the cell(s) to identify a possible cause of the failure. Click <a href='https://aka.ms/vscodeJupyterKernelCrash'>here</a> for more info. View Jupyter <a href='command:jupyter.viewOutput'>log</a> for further details."
     ]
    }
   ],
   "source": [
    "from matplotlib.pyplot import xlabel\n",
    "\n",
    "\n",
    "# sns.color_palette(\"tab10\")\n",
    "\n",
    "\n",
    "sns.set_theme(style=\"ticks\")\n",
    "f, ax = plt.subplots(figsize=(7, 6))\n",
    "ax.yaxis.grid(True)\n",
    "ax.xaxis.grid(True)\n",
    "# ax.set_yscale(\"log\")\n",
    "\n",
    "\n",
    "\n",
    "# sns.scatterplot(data=df, x=\"trainingsizes\", y=\"mini\", palette=\"vlag\")\n",
    "# ax.set(ylabel=\"\", xlabel=\"Iteration\", title=\" vs. Number of training iterations\")\n",
    "\n",
    "# sns.scatterplot(data=df, x=\"trainingsizes\", y=\"result_q1\", palette=\"vlag\")\n",
    "# ax.set(ylabel=\"\", xlabel=\"Iteration\", title=\" vs. Number of training iterations\")\n",
    "\n",
    "# sns.scatterplot(data=df, x=\"trainingsizes\", y=\"result_q2\", palette=\"vlag\")\n",
    "# ax.set(ylabel=\"\", xlabel=\"Iteration\", title=\" vs. Number of training iterations\")\n",
    "\n",
    "# sns.scatterplot(data=df, x=\"trainingsizes\", y=\"mean\", palette=\"vlag\")\n",
    "# ax.set(ylabel=\"Score\", xlabel=\"Iteration\", title=\"Mean score of 100 attempts vs. Number of training iterations\")\n",
    "\n",
    "# sns.scatterplot(data=df, x=\"trainingsizes\", y=\"result_q3\", palette=\"vlag\")\n",
    "# ax.set(ylabel=\"\", xlabel=\"Iteration\", title=\" vs. Number of training iterations\")\n",
    "\n",
    "# sns.scatterplot(data=df, x=\"trainingsizes\", y=\"maxi\", palette=\"vlag\")\n",
    "# ax.set(ylabel=\"\", xlabel=\"Iteration\", title=\" vs. Number of training iterations\")\n",
    "\n",
    "\n",
    "\n",
    "# sns.scatterplot(data=df, x=\"trainingsizes\", y=\"times\", palette=\"vlag\")\n",
    "# ax.set(ylabel=\"Duration in milliseconds\", xlabel=\"Iteration\", title=\"Training duration of vs. Number of training iterations\")\n",
    "\n",
    "# sns.scatterplot(data=df, x=\"trainingsizes\", y=\"qvalues\", palette=\"vlag\")\n",
    "# ax.set(ylabel=\"Duration in milliseconds\", xlabel=\"Iteration\", title=\"Training duration of vs. Number of training iterations\")\n",
    "\n",
    "# TODO\n",
    "# sns.scatterplot(data=df, x=\"trainingsizes\", y=\"framecount\", palette=\"vlag\")\n",
    "# ax.set(ylabel=\"Duration in milliseconds\", xlabel=\"Iteration\", title=\"Training duration of vs. Number of training iterations\")\n"
   ]
  },
  {
   "cell_type": "code",
   "execution_count": 7,
   "metadata": {},
   "outputs": [],
   "source": [
    "# df.to_csv('savepoint.csv') \n",
    "# filestr: str = 'results/qvalues_' + str(trainedlvl)\n",
    "# playyy.write(agent, filestr)"
   ]
  }
 ],
 "metadata": {
  "kernelspec": {
   "display_name": "Python 3.10.8 64-bit (microsoft store)",
   "language": "python",
   "name": "python3"
  },
  "language_info": {
   "codemirror_mode": {
    "name": "ipython",
    "version": 3
   },
   "file_extension": ".py",
   "mimetype": "text/x-python",
   "name": "python",
   "nbconvert_exporter": "python",
   "pygments_lexer": "ipython3",
   "version": "3.10.8"
  },
  "orig_nbformat": 4,
  "vscode": {
   "interpreter": {
    "hash": "7d01faa1f7cd5ec7800baa6300fc87384515f4579dd64917c90569f1d4037ba0"
   }
  }
 },
 "nbformat": 4,
 "nbformat_minor": 2
}
